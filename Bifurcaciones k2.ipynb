{
 "cells": [
  {
   "cell_type": "markdown",
   "metadata": {},
   "source": [
    "# Bifurcaciones con el parámetro $k_2$"
   ]
  },
  {
   "cell_type": "code",
   "execution_count": 1,
   "metadata": {},
   "outputs": [],
   "source": [
    "from model import *\n",
    "from scipy.signal import find_peaks"
   ]
  },
  {
   "cell_type": "code",
   "execution_count": 2,
   "metadata": {},
   "outputs": [],
   "source": [
    "m = {'1': 0.125, '2': 0.025, '3': 0.005} # g\n",
    "d = {'1': 0.25, '2': 0.05, '3': 0.01} # cm\n",
    "r = {'1': 0.02, '2': 0.005, '3': 0.005} # g/ms\n",
    "k = {'1': 0.08, '3': 0.01, '1,2': 0.025, '2,3': 0.01} # g/ms^2\n",
    "c = {'1': 3 * k['1'], '3': 3 * k['3']} # g/ms^2\n",
    "a0 = {'1': 0.05, '2': 0.05, '3': 0.05} # cm^2\n",
    "l = 1.4 # cm\n",
    "rho = 0.00113 # g/cm^3\n",
    "Ps = 0.008 # g/cm ms^2"
   ]
  },
  {
   "cell_type": "code",
   "execution_count": 3,
   "metadata": {},
   "outputs": [],
   "source": [
    "y0 = [0.1, 0.1, 0.1, 0, 0, 0]\n",
    "t = np.linspace(0, 1000, 20001)"
   ]
  },
  {
   "cell_type": "code",
   "execution_count": 4,
   "metadata": {},
   "outputs": [
    {
     "data": {
      "image/png": "[encoded data removed]",
      "text/plain": [
       "<matplotlib.figure.Figure at 0x15da9bef080>"
      ]
     },
     "metadata": {},
     "output_type": "display_data"
    }
   ],
   "source": [
    "k2_values = np.linspace(0.008, 0.08, 100)\n",
    "k2 = []\n",
    "local_max = []\n",
    "k2_rev = []\n",
    "local_max_rev = []\n",
    "\n",
    "def get_local_max(values, k2, local_max):\n",
    "    init = y0\n",
    "    for val in values:\n",
    "        k['2'] = val\n",
    "        c['2'] = 3 * k['2']\n",
    "\n",
    "        sol = odeint(model, init, t, args=(m, d, r, k, c, a0, l, Ps))\n",
    "        x1 = sol[:,0]\n",
    "    #     x1, x2, x3 = sol[:, 0], sol[:, 1], sol[:, 2]\n",
    "\n",
    "    #     a1 = a0['1'] + 2 * l * x1\n",
    "    #     a2 = a0['2'] + 2 * l * x2\n",
    "    #     a3 = a0['3'] + 2 * l * x3\n",
    "\n",
    "    #     a_min = np.asarray([a1, a2, a3]).min(0)\n",
    "    #     U = np.sqrt((2 * Ps) / rho) * a_min * np.vectorize(theta)(a_min)\n",
    "\n",
    "        peaks, _ = find_peaks(x1)\n",
    "        lm = x1[peaks][-20:]\n",
    "        k2 += [val] * len(lm)\n",
    "        local_max += list(lm)\n",
    "        init = sol[-1,:]\n",
    "        \n",
    "get_local_max(k2_values, k2, local_max)\n",
    "get_local_max(k2_values[::-1], k2_rev, local_max_rev)\n",
    "plt.figure(figsize=(10,5))\n",
    "plt.title('Diagrama de bifurcación')\n",
    "plt.xlabel('k$_2$ [g/ms$^2$]')\n",
    "plt.ylabel('Máximo local de x$_1$ [cm]')\n",
    "plt.scatter(k2, local_max, facecolors='none', edgecolors='C0')\n",
    "plt.scatter(k2_rev, local_max_rev, marker='x')\n",
    "plt.show()"
   ]
  }
 ],
 "metadata": {
  "kernelspec": {
   "display_name": "Python 3",
   "language": "python",
   "name": "python3"
  },
  "language_info": {
   "codemirror_mode": {
    "name": "ipython",
    "version": 3
   },
   "file_extension": ".py",
   "mimetype": "text/x-python",
   "name": "python",
   "nbconvert_exporter": "python",
   "pygments_lexer": "ipython3",
   "version": "3.6.3"
  }
 },
 "nbformat": 4,
 "nbformat_minor": 2
}
